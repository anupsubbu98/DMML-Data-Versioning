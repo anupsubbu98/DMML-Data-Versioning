{
 "cells": [
  {
   "cell_type": "code",
   "execution_count": null,
   "id": "fd61aa35-9a56-42fc-94e0-4ee3ca40e055",
   "metadata": {},
   "outputs": [],
   "source": [
    "# !pip install dvc"
   ]
  },
  {
   "cell_type": "code",
   "execution_count": 1,
   "id": "5734c1ca-031e-4bee-b427-5c84d0f3c339",
   "metadata": {},
   "outputs": [
    {
     "name": "stdout",
     "output_type": "stream",
     "text": [
      "git version 2.47.0.windows.2\n"
     ]
    }
   ],
   "source": [
    "!git --version"
   ]
  },
  {
   "cell_type": "code",
   "execution_count": 3,
   "id": "953165a9-94fc-423f-b72b-26cfb8be4c68",
   "metadata": {},
   "outputs": [
    {
     "name": "stdout",
     "output_type": "stream",
     "text": [
      "3.59.1\n"
     ]
    }
   ],
   "source": [
    "!dvc --version"
   ]
  },
  {
   "cell_type": "code",
   "execution_count": 5,
   "id": "5d72336d-b686-47b7-a94b-4879e9f54072",
   "metadata": {},
   "outputs": [
    {
     "name": "stdout",
     "output_type": "stream",
     "text": [
      "Current Working Directory: C:\\Users\\Subbu\\OneDrive\\Desktop\\M.TechStuff\\Sem2\\2.DMML\\Assignment\n"
     ]
    }
   ],
   "source": [
    "import os\n",
    "\n",
    "# Set the working directory to your project folder\n",
    "os.chdir(\"C:/Users/Subbu/OneDrive/Desktop/M.TechStuff/Sem2/2.DMML/Assignment\")\n",
    "\n",
    "print(\"Current Working Directory:\", os.getcwd())"
   ]
  },
  {
   "cell_type": "code",
   "execution_count": 7,
   "id": "9ac4949f-d0a8-4b85-8a27-3a2f2512ff11",
   "metadata": {},
   "outputs": [
    {
     "name": "stdout",
     "output_type": "stream",
     "text": [
      "Initialized empty Git repository in C:/Users/Subbu/OneDrive/Desktop/M.TechStuff/Sem2/2.DMML/Assignment/.git/\n"
     ]
    }
   ],
   "source": [
    "!git init"
   ]
  },
  {
   "cell_type": "code",
   "execution_count": 9,
   "id": "1c169fdd-a4cc-461d-a038-fd0b4e71be31",
   "metadata": {},
   "outputs": [
    {
     "name": "stdout",
     "output_type": "stream",
     "text": [
      "Initialized DVC repository.\n",
      "\n",
      "You can now commit the changes to git.\n",
      "\n",
      "+---------------------------------------------------------------------+\n",
      "|                                                                     |\n",
      "|        DVC has enabled anonymous aggregate usage analytics.         |\n",
      "|     Read the analytics documentation (and how to opt-out) here:     |\n",
      "|             <https://dvc.org/doc/user-guide/analytics>              |\n",
      "|                                                                     |\n",
      "+---------------------------------------------------------------------+\n",
      "\n",
      "What's next?\n",
      "------------\n",
      "- Check out the documentation: <https://dvc.org/doc>\n",
      "- Get help and share ideas: <https://dvc.org/chat>\n",
      "- Star us on GitHub: <https://github.com/iterative/dvc>\n"
     ]
    }
   ],
   "source": [
    "!dvc init"
   ]
  },
  {
   "cell_type": "code",
   "execution_count": 11,
   "id": "ebedfdd3-9980-4bfa-8628-e25ed43648f9",
   "metadata": {},
   "outputs": [
    {
     "name": "stderr",
     "output_type": "stream",
     "text": [
      "fatal: pathspec '.gitignore' did not match any files\n"
     ]
    },
    {
     "name": "stdout",
     "output_type": "stream",
     "text": [
      "[master (root-commit) 90f5165] Initialized DVC\n",
      " 3 files changed, 6 insertions(+)\n",
      " create mode 100644 .dvc/.gitignore\n",
      " create mode 100644 .dvc/config\n",
      " create mode 100644 .dvcignore\n"
     ]
    }
   ],
   "source": [
    "!git add .dvc .gitignore\n",
    "!git commit -m \"Initialized DVC\""
   ]
  },
  {
   "cell_type": "code",
   "execution_count": 13,
   "id": "4a12dff2-6676-40d2-93dd-e30dbb886225",
   "metadata": {},
   "outputs": [
    {
     "name": "stdout",
     "output_type": "stream",
     "text": [
      "\n",
      "To track the changes with git, run:\n",
      "\n",
      "\tgit add 'Raw_data_storage\\raw_data\\csv.dvc'\n",
      "\n",
      "To enable auto staging, run:\n",
      "\n",
      "\tdvc config core.autostage true\n"
     ]
    },
    {
     "name": "stderr",
     "output_type": "stream",
     "text": [
      "\\u280b Checking graph\n",
      "\n"
     ]
    }
   ],
   "source": [
    "!dvc add Raw_data_storage/raw_data/csv"
   ]
  },
  {
   "cell_type": "code",
   "execution_count": 15,
   "id": "5f749d40-8e5d-4698-9f61-0132f5f0ab72",
   "metadata": {},
   "outputs": [
    {
     "name": "stdout",
     "output_type": "stream",
     "text": [
      "\n",
      "To track the changes with git, run:\n",
      "\n",
      "\tgit add Data_Transformation.dvc .gitignore\n",
      "\n",
      "To enable auto staging, run:\n",
      "\n",
      "\tdvc config core.autostage true\n"
     ]
    },
    {
     "name": "stderr",
     "output_type": "stream",
     "text": [
      "\\u280b Checking graph\n",
      "\n"
     ]
    }
   ],
   "source": [
    "!dvc add Data_Transformation"
   ]
  },
  {
   "cell_type": "code",
   "execution_count": 17,
   "id": "c0271934-8002-4d4a-9c80-241e7e5f53e2",
   "metadata": {},
   "outputs": [
    {
     "name": "stdout",
     "output_type": "stream",
     "text": [
      "[master bd0779e] Added dataset tracking for raw and transformed data\n",
      " 3 files changed, 13 insertions(+)\n",
      " create mode 100644 .gitignore\n",
      " create mode 100644 Data_Transformation.dvc\n",
      " create mode 100644 Raw_data_storage/raw_data/csv.dvc\n"
     ]
    }
   ],
   "source": [
    "!git add .dvc .gitignore Raw_data_storage/raw_data/csv.dvc Data_Transformation.dvc\n",
    "!git commit -m \"Added dataset tracking for raw and transformed data\""
   ]
  },
  {
   "cell_type": "code",
   "execution_count": 19,
   "id": "00d67133-26b3-4294-ac32-c1fcb1a4d845",
   "metadata": {},
   "outputs": [
    {
     "name": "stdout",
     "output_type": "stream",
     "text": [
      "Data and pipelines are up to date.\n"
     ]
    }
   ],
   "source": [
    "!dvc status"
   ]
  },
  {
   "cell_type": "code",
   "execution_count": 21,
   "id": "f77cb763-ab63-48f7-8116-ed50c55949ee",
   "metadata": {},
   "outputs": [],
   "source": [
    "!git add dataset_version_history.txt"
   ]
  },
  {
   "cell_type": "code",
   "execution_count": null,
   "id": "d4f23680-77e0-4a60-b130-b647c6726f8f",
   "metadata": {},
   "outputs": [],
   "source": [
    "!git commit -m \"Added data versioning log\""
   ]
  },
  {
   "cell_type": "code",
   "execution_count": null,
   "id": "db69eb0a-3192-49bc-ac20-e30962f109d0",
   "metadata": {},
   "outputs": [],
   "source": [
    "!git add .\n",
    "!git commit -m \"Version control setup for datasets\"\n",
    "!git push origin main"
   ]
  }
 ],
 "metadata": {
  "kernelspec": {
   "display_name": "Python 3 (ipykernel)",
   "language": "python",
   "name": "python3"
  },
  "language_info": {
   "codemirror_mode": {
    "name": "ipython",
    "version": 3
   },
   "file_extension": ".py",
   "mimetype": "text/x-python",
   "name": "python",
   "nbconvert_exporter": "python",
   "pygments_lexer": "ipython3",
   "version": "3.12.4"
  }
 },
 "nbformat": 4,
 "nbformat_minor": 5
}
