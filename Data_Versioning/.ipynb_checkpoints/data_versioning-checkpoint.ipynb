{
 "cells": [
  {
   "cell_type": "code",
   "execution_count": null,
   "id": "fd61aa35-9a56-42fc-94e0-4ee3ca40e055",
   "metadata": {},
   "outputs": [],
   "source": [
    "# !pip install dvc"
   ]
  },
  {
   "cell_type": "code",
   "execution_count": null,
   "id": "5734c1ca-031e-4bee-b427-5c84d0f3c339",
   "metadata": {},
   "outputs": [],
   "source": [
    "!git --version"
   ]
  },
  {
   "cell_type": "code",
   "execution_count": null,
   "id": "953165a9-94fc-423f-b72b-26cfb8be4c68",
   "metadata": {},
   "outputs": [],
   "source": [
    "!dvc --version"
   ]
  },
  {
   "cell_type": "code",
   "execution_count": null,
   "id": "5d72336d-b686-47b7-a94b-4879e9f54072",
   "metadata": {},
   "outputs": [],
   "source": [
    "import os\n",
    "\n",
    "# Set the working directory to your project folder\n",
    "os.chdir(\"C:/Users/Subbu/OneDrive/Desktop/M.TechStuff/Sem2/2.DMML/Assignment\")\n",
    "\n",
    "print(\"Current Working Directory:\", os.getcwd())"
   ]
  },
  {
   "cell_type": "code",
   "execution_count": null,
   "id": "9ac4949f-d0a8-4b85-8a27-3a2f2512ff11",
   "metadata": {},
   "outputs": [],
   "source": [
    "!git init"
   ]
  },
  {
   "cell_type": "code",
   "execution_count": null,
   "id": "1c169fdd-a4cc-461d-a038-fd0b4e71be31",
   "metadata": {},
   "outputs": [],
   "source": [
    "!dvc init"
   ]
  },
  {
   "cell_type": "code",
   "execution_count": null,
   "id": "ebedfdd3-9980-4bfa-8628-e25ed43648f9",
   "metadata": {},
   "outputs": [],
   "source": [
    "!git add .dvc .gitignore\n",
    "!git commit -m \"Initialized DVC\""
   ]
  },
  {
   "cell_type": "code",
   "execution_count": null,
   "id": "4a12dff2-6676-40d2-93dd-e30dbb886225",
   "metadata": {},
   "outputs": [],
   "source": [
    "!dvc add Raw_data_storage/raw_data/csv"
   ]
  },
  {
   "cell_type": "code",
   "execution_count": null,
   "id": "5f749d40-8e5d-4698-9f61-0132f5f0ab72",
   "metadata": {},
   "outputs": [],
   "source": [
    "!dvc add Data_Transformation"
   ]
  },
  {
   "cell_type": "code",
   "execution_count": null,
   "id": "c0271934-8002-4d4a-9c80-241e7e5f53e2",
   "metadata": {},
   "outputs": [],
   "source": [
    "!git add .dvc .gitignore Raw_data_storage/raw_data/csv.dvc Data_Transformation.dvc\n",
    "!git commit -m \"Added dataset tracking for raw and transformed data\""
   ]
  },
  {
   "cell_type": "code",
   "execution_count": null,
   "id": "00d67133-26b3-4294-ac32-c1fcb1a4d845",
   "metadata": {},
   "outputs": [],
   "source": [
    "!dvc status"
   ]
  },
  {
   "cell_type": "code",
   "execution_count": null,
   "id": "f77cb763-ab63-48f7-8116-ed50c55949ee",
   "metadata": {},
   "outputs": [],
   "source": [
    "!git add dataset_version_history.txt"
   ]
  },
  {
   "cell_type": "code",
   "execution_count": null,
   "id": "d4f23680-77e0-4a60-b130-b647c6726f8f",
   "metadata": {},
   "outputs": [],
   "source": [
    "!git commit -m \"Added data versioning log\""
   ]
  },
  {
   "cell_type": "code",
   "execution_count": null,
   "id": "db69eb0a-3192-49bc-ac20-e30962f109d0",
   "metadata": {},
   "outputs": [],
   "source": [
    "!git add .\n",
    "!git commit -m \"Version control setup for datasets\"\n",
    "!git push origin main"
   ]
  }
 ],
 "metadata": {
  "kernelspec": {
   "display_name": "Python 3 (ipykernel)",
   "language": "python",
   "name": "python3"
  },
  "language_info": {
   "codemirror_mode": {
    "name": "ipython",
    "version": 3
   },
   "file_extension": ".py",
   "mimetype": "text/x-python",
   "name": "python",
   "nbconvert_exporter": "python",
   "pygments_lexer": "ipython3",
   "version": "3.12.4"
  }
 },
 "nbformat": 4,
 "nbformat_minor": 5
}
